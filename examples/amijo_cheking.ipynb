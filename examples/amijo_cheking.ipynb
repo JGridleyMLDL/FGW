{
 "cells": [
  {
   "cell_type": "code",
   "execution_count": 1,
   "metadata": {
    "collapsed": false
   },
   "outputs": [],
   "source": [
    "import numpy as np\n",
    "import os,sys\n",
    "sys.path.append(os.path.realpath('../lib'))\n",
    "#module_path = os.path.abspath(os.path.join('/Users/vayer/Documents/OT/WGW/lib_wgw'))\n",
    "#sys.path.append(module_path)\n",
    "from custom_svc import Graph_FGW_SVC_Classifier\n",
    "from data_loader import load_local_data\n",
    "import time\n",
    "import matplotlib.pyplot as plt\n",
    "from sklearn.model_selection import train_test_split"
   ]
  },
  {
   "cell_type": "code",
   "execution_count": 2,
   "metadata": {
    "collapsed": false
   },
   "outputs": [],
   "source": [
    "X,y=load_local_data('../data','mutag',wl=2)"
   ]
  },
  {
   "cell_type": "code",
   "execution_count": 3,
   "metadata": {
    "collapsed": false
   },
   "outputs": [],
   "source": [
    "X_train, X_test, y_train, y_test=train_test_split(X,y,test_size=0.33, random_state=42)"
   ]
  },
  {
   "cell_type": "code",
   "execution_count": 4,
   "metadata": {
    "collapsed": false
   },
   "outputs": [
    {
     "data": {
      "text/plain": [
       "-1.2297855042001735e-18"
      ]
     },
     "execution_count": 4,
     "metadata": {},
     "output_type": "execute_result"
    }
   ],
   "source": [
    "fgw=Graph_FGW_SVC_Classifier(C=1,gamma=2,alpha=1e-3,method='shortest_path',\n",
    "                             features_metric='hamming_dist',amijo=False,\n",
    "                            verbose=True)\n",
    "fgw.compute_similarity(X[2],X[2])"
   ]
  },
  {
   "cell_type": "code",
   "execution_count": 5,
   "metadata": {
    "collapsed": false
   },
   "outputs": [],
   "source": [
    "from utils import dist\n",
    "xalea = np.random.randn(10, 2)\n",
    "C1 = dist(xalea, xalea)"
   ]
  },
  {
   "cell_type": "code",
   "execution_count": 6,
   "metadata": {
    "collapsed": true
   },
   "outputs": [],
   "source": [
    "#C1=X[2].C\n",
    "C2=C1\n",
    "p=np.ones(C1.shape[0])/C1.shape[0]\n",
    "q=p"
   ]
  },
  {
   "cell_type": "code",
   "execution_count": 7,
   "metadata": {
    "collapsed": false
   },
   "outputs": [],
   "source": [
    "from FGW import init_matrix,tensor_product\n",
    "from FGW import gwloss,gwggrad,gw_lp"
   ]
  },
  {
   "cell_type": "code",
   "execution_count": 8,
   "metadata": {
    "collapsed": false
   },
   "outputs": [],
   "source": [
    "constC,hC1,hC2=init_matrix(C1,C2,p,q)\n",
    "tens=tensor_product(constC,hC1,hC2,p[:,None]*q[None,:])"
   ]
  },
  {
   "cell_type": "code",
   "execution_count": 9,
   "metadata": {
    "collapsed": false
   },
   "outputs": [
    {
     "data": {
      "text/plain": [
       "array([], dtype=float64)"
      ]
     },
     "execution_count": 9,
     "metadata": {},
     "output_type": "execute_result"
    }
   ],
   "source": [
    "tens[tens<=0]"
   ]
  },
  {
   "cell_type": "code",
   "execution_count": 10,
   "metadata": {
    "collapsed": true
   },
   "outputs": [],
   "source": [
    "def f(G):\n",
    "    return gwloss(constC,hC1,hC2,G)\n",
    "def df(G):\n",
    "    return gwggrad(constC,hC1,hC2,G)\n",
    "def cost(G):\n",
    "    return np.sum(M * G) + reg * f(G)"
   ]
  },
  {
   "cell_type": "code",
   "execution_count": 11,
   "metadata": {
    "collapsed": true
   },
   "outputs": [],
   "source": [
    "from ot import emd"
   ]
  },
  {
   "cell_type": "code",
   "execution_count": 12,
   "metadata": {
    "collapsed": true
   },
   "outputs": [],
   "source": [
    "M=np.zeros((C1.shape[0],C2.shape[0]))"
   ]
  },
  {
   "cell_type": "code",
   "execution_count": 13,
   "metadata": {
    "collapsed": true
   },
   "outputs": [],
   "source": [
    "alpha=1e-3"
   ]
  },
  {
   "cell_type": "code",
   "execution_count": 14,
   "metadata": {
    "collapsed": false
   },
   "outputs": [],
   "source": [
    "G=p[:,None]*q[None,:]\n",
    "Mi = M + alpha * df(G) #Gradient(xt)\n",
    "# set M positive\n",
    "Mi += Mi.min()\n",
    "# solve linear program\n",
    "Gc = emd(p, q, Mi) #st"
   ]
  },
  {
   "cell_type": "code",
   "execution_count": 15,
   "metadata": {
    "collapsed": false
   },
   "outputs": [
    {
     "data": {
      "text/plain": [
       "array([[0.1, 0. , 0. , 0. , 0. , 0. , 0. , 0. , 0. , 0. ],\n",
       "       [0. , 0.1, 0. , 0. , 0. , 0. , 0. , 0. , 0. , 0. ],\n",
       "       [0. , 0. , 0.1, 0. , 0. , 0. , 0. , 0. , 0. , 0. ],\n",
       "       [0. , 0. , 0. , 0.1, 0. , 0. , 0. , 0. , 0. , 0. ],\n",
       "       [0. , 0. , 0. , 0. , 0.1, 0. , 0. , 0. , 0. , 0. ],\n",
       "       [0. , 0. , 0. , 0. , 0. , 0.1, 0. , 0. , 0. , 0. ],\n",
       "       [0. , 0. , 0. , 0. , 0. , 0. , 0.1, 0. , 0. , 0. ],\n",
       "       [0. , 0. , 0. , 0. , 0. , 0. , 0. , 0.1, 0. , 0. ],\n",
       "       [0. , 0. , 0. , 0. , 0. , 0. , 0. , 0. , 0.1, 0. ],\n",
       "       [0. , 0. , 0. , 0. , 0. , 0. , 0. , 0. , 0. , 0.1]])"
      ]
     },
     "execution_count": 15,
     "metadata": {},
     "output_type": "execute_result"
    }
   ],
   "source": [
    "Gc"
   ]
  },
  {
   "cell_type": "code",
   "execution_count": 16,
   "metadata": {
    "collapsed": true
   },
   "outputs": [],
   "source": [
    "tens=tensor_product(constC,hC1,hC2,Gc)"
   ]
  },
  {
   "cell_type": "code",
   "execution_count": 17,
   "metadata": {
    "collapsed": false
   },
   "outputs": [
    {
     "data": {
      "text/plain": [
       "array([ 0.00000000e+00, -3.55271368e-15,  0.00000000e+00,  0.00000000e+00,\n",
       "       -3.55271368e-15,  0.00000000e+00])"
      ]
     },
     "execution_count": 17,
     "metadata": {},
     "output_type": "execute_result"
    }
   ],
   "source": [
    "tens[tens<=0]"
   ]
  },
  {
   "cell_type": "code",
   "execution_count": 19,
   "metadata": {
    "collapsed": false
   },
   "outputs": [
    {
     "data": {
      "text/plain": [
       "True"
      ]
     },
     "execution_count": 19,
     "metadata": {},
     "output_type": "execute_result"
    }
   ],
   "source": [
    "np.all(np.sum(Gc,axis=0)==p)"
   ]
  },
  {
   "cell_type": "code",
   "execution_count": 20,
   "metadata": {
    "collapsed": false
   },
   "outputs": [],
   "source": [
    "N=tens.shape[0]"
   ]
  },
  {
   "cell_type": "code",
   "execution_count": 21,
   "metadata": {
    "collapsed": true
   },
   "outputs": [],
   "source": [
    "tens2 = np.zeros((N,N))"
   ]
  },
  {
   "cell_type": "code",
   "execution_count": 22,
   "metadata": {
    "collapsed": false
   },
   "outputs": [],
   "source": [
    "for i in range(N):\n",
    "    for j in range(N):\n",
    "        for k in range(N):\n",
    "            for l in range(N):\n",
    "                A=(C1[i,k]-C2[j,l])**2\n",
    "                tens2[i,j] += A*(Gc[k,l])"
   ]
  },
  {
   "cell_type": "code",
   "execution_count": 23,
   "metadata": {
    "collapsed": false
   },
   "outputs": [
    {
     "data": {
      "text/plain": [
       "array([[ 0.        ,  4.75611187, 12.78956061, 28.64841719, 11.73001571,\n",
       "         6.11513026,  4.9852642 , 23.91533236,  0.23430292,  5.16744751],\n",
       "       [ 4.75611187,  0.        , 12.99201429, 23.42124526,  8.93978514,\n",
       "        17.13793359, 15.23829735,  8.93318848,  6.69314317,  2.46162699],\n",
       "       [12.78956061, 12.99201429,  0.        ,  5.40854961,  1.1674805 ,\n",
       "        19.45040683, 10.54049171, 16.68477124, 13.42019763,  6.65481264],\n",
       "       [28.64841719, 23.42124526,  5.40854961,  0.        ,  8.13870688,\n",
       "        31.74799847, 22.56733977, 14.46483696, 29.21903757, 18.7911415 ],\n",
       "       [11.73001571,  8.93978514,  1.1674805 ,  8.13870688,  0.        ,\n",
       "        23.28411841, 14.22404121, 12.38084221, 13.32010223,  3.19857423],\n",
       "       [ 6.11513026, 17.13793359, 19.45040683, 31.74799847, 23.28411841,\n",
       "         0.        ,  1.89845332, 37.86929501,  4.0764115 , 19.27636081],\n",
       "       [ 4.9852642 , 15.23829735, 10.54049171, 22.56733977, 14.22404121,\n",
       "         1.89845332,  0.        , 33.49937962,  3.41732492, 13.45903113],\n",
       "       [23.91533236,  8.93318848, 16.68477124, 14.46483696, 12.38084221,\n",
       "        37.86929501, 33.49937962,  0.        , 26.92110323, 12.11742431],\n",
       "       [ 0.23430292,  6.69314317, 13.42019763, 29.21903757, 13.32010223,\n",
       "         4.0764115 ,  3.41732492, 26.92110323,  0.        ,  7.14804795],\n",
       "       [ 5.16744751,  2.46162699,  6.65481264, 18.7911415 ,  3.19857423,\n",
       "        19.27636081, 13.45903113, 12.11742431,  7.14804795,  0.        ]])"
      ]
     },
     "execution_count": 23,
     "metadata": {},
     "output_type": "execute_result"
    }
   ],
   "source": [
    "tens2"
   ]
  },
  {
   "cell_type": "code",
   "execution_count": 24,
   "metadata": {
    "collapsed": false
   },
   "outputs": [
    {
     "data": {
      "text/plain": [
       "array([[ 3.55271368e-15,  4.75611187e+00,  1.27895606e+01,\n",
       "         2.86484172e+01,  1.17300157e+01,  6.11513026e+00,\n",
       "         4.98526420e+00,  2.39153324e+01,  2.34302918e-01,\n",
       "         5.16744751e+00],\n",
       "       [ 4.75611187e+00,  0.00000000e+00,  1.29920143e+01,\n",
       "         2.34212453e+01,  8.93978514e+00,  1.71379336e+01,\n",
       "         1.52382973e+01,  8.93318848e+00,  6.69314317e+00,\n",
       "         2.46162699e+00],\n",
       "       [ 1.27895606e+01,  1.29920143e+01, -3.55271368e-15,\n",
       "         5.40854961e+00,  1.16748050e+00,  1.94504068e+01,\n",
       "         1.05404917e+01,  1.66847712e+01,  1.34201976e+01,\n",
       "         6.65481264e+00],\n",
       "       [ 2.86484172e+01,  2.34212453e+01,  5.40854961e+00,\n",
       "         7.10542736e-15,  8.13870688e+00,  3.17479985e+01,\n",
       "         2.25673398e+01,  1.44648370e+01,  2.92190376e+01,\n",
       "         1.87911415e+01],\n",
       "       [ 1.17300157e+01,  8.93978514e+00,  1.16748050e+00,\n",
       "         8.13870688e+00,  0.00000000e+00,  2.32841184e+01,\n",
       "         1.42240412e+01,  1.23808422e+01,  1.33201022e+01,\n",
       "         3.19857423e+00],\n",
       "       [ 6.11513026e+00,  1.71379336e+01,  1.94504068e+01,\n",
       "         3.17479985e+01,  2.32841184e+01,  0.00000000e+00,\n",
       "         1.89845332e+00,  3.78692950e+01,  4.07641150e+00,\n",
       "         1.92763608e+01],\n",
       "       [ 4.98526420e+00,  1.52382973e+01,  1.05404917e+01,\n",
       "         2.25673398e+01,  1.42240412e+01,  1.89845332e+00,\n",
       "         7.10542736e-15,  3.34993796e+01,  3.41732492e+00,\n",
       "         1.34590311e+01],\n",
       "       [ 2.39153324e+01,  8.93318848e+00,  1.66847712e+01,\n",
       "         1.44648370e+01,  1.23808422e+01,  3.78692950e+01,\n",
       "         3.34993796e+01,  1.42108547e-14,  2.69211032e+01,\n",
       "         1.21174243e+01],\n",
       "       [ 2.34302918e-01,  6.69314317e+00,  1.34201976e+01,\n",
       "         2.92190376e+01,  1.33201022e+01,  4.07641150e+00,\n",
       "         3.41732492e+00,  2.69211032e+01, -3.55271368e-15,\n",
       "         7.14804795e+00],\n",
       "       [ 5.16744751e+00,  2.46162699e+00,  6.65481264e+00,\n",
       "         1.87911415e+01,  3.19857423e+00,  1.92763608e+01,\n",
       "         1.34590311e+01,  1.21174243e+01,  7.14804795e+00,\n",
       "         0.00000000e+00]])"
      ]
     },
     "execution_count": 24,
     "metadata": {},
     "output_type": "execute_result"
    }
   ],
   "source": [
    "tens"
   ]
  },
  {
   "cell_type": "code",
   "execution_count": 26,
   "metadata": {
    "collapsed": false
   },
   "outputs": [
    {
     "data": {
      "text/plain": [
       "array([[ 0.        ,  1.32056891,  3.96342705,  7.20931476,  3.30554976,\n",
       "         1.18665914,  1.63077163,  5.12796426,  0.06423588,  1.2901006 ],\n",
       "       [ 1.32056891,  0.        ,  4.82220966,  7.34424077,  3.00112768,\n",
       "         4.97043012,  5.18630458,  1.6610644 ,  1.96215166,  0.48716071],\n",
       "       [ 3.96342705,  4.82220966,  0.        ,  0.52733147,  0.3495778 ,\n",
       "         4.80822757,  2.70602923,  4.73575066,  3.99529836,  2.26525122],\n",
       "       [ 7.20931476,  7.34424077,  0.52733147,  0.        ,  0.95811357,\n",
       "         8.47399541,  5.48124319,  5.50715951,  7.35538004,  4.06461455],\n",
       "       [ 3.30554976,  3.00112768,  0.3495778 ,  0.95811357,  0.        ,\n",
       "         5.35440846,  3.53848535,  2.5123832 ,  3.61226782,  1.07600423],\n",
       "       [ 1.18665914,  4.97043012,  4.80822757,  8.47399541,  5.35440846,\n",
       "         0.        ,  0.41019151, 10.43311416,  0.69931871,  4.19953479],\n",
       "       [ 1.63077163,  5.18630458,  2.70602923,  5.48124319,  3.53848535,\n",
       "         0.41019151,  0.        ,  9.33951532,  1.15073825,  3.62415419],\n",
       "       [ 5.12796426,  1.6610644 ,  4.73575066,  5.50715951,  2.5123832 ,\n",
       "        10.43311416,  9.33951532,  0.        ,  6.17894745,  1.39528984],\n",
       "       [ 0.06423588,  1.96215166,  3.99529836,  7.35538004,  3.61226782,\n",
       "         0.69931871,  1.15073825,  6.17894745,  0.        ,  1.77406655],\n",
       "       [ 1.2901006 ,  0.48716071,  2.26525122,  4.06461455,  1.07600423,\n",
       "         4.19953479,  3.62415419,  1.39528984,  1.77406655,  0.        ]])"
      ]
     },
     "execution_count": 26,
     "metadata": {},
     "output_type": "execute_result"
    }
   ],
   "source": [
    "C2"
   ]
  },
  {
   "cell_type": "code",
   "execution_count": null,
   "metadata": {
    "collapsed": true
   },
   "outputs": [],
   "source": []
  },
  {
   "cell_type": "code",
   "execution_count": null,
   "metadata": {
    "collapsed": true
   },
   "outputs": [],
   "source": []
  },
  {
   "cell_type": "code",
   "execution_count": null,
   "metadata": {
    "collapsed": true
   },
   "outputs": [],
   "source": []
  },
  {
   "cell_type": "code",
   "execution_count": null,
   "metadata": {
    "collapsed": true
   },
   "outputs": [],
   "source": []
  },
  {
   "cell_type": "code",
   "execution_count": null,
   "metadata": {
    "collapsed": true
   },
   "outputs": [],
   "source": []
  },
  {
   "cell_type": "code",
   "execution_count": null,
   "metadata": {
    "collapsed": true
   },
   "outputs": [],
   "source": []
  },
  {
   "cell_type": "code",
   "execution_count": null,
   "metadata": {
    "collapsed": true
   },
   "outputs": [],
   "source": []
  },
  {
   "cell_type": "code",
   "execution_count": null,
   "metadata": {
    "collapsed": false
   },
   "outputs": [],
   "source": [
    "G,log=gw_lp(C1,C2,p,q,'square_loss',amijo=True,log=True)"
   ]
  },
  {
   "cell_type": "code",
   "execution_count": null,
   "metadata": {
    "collapsed": false
   },
   "outputs": [],
   "source": [
    "log['loss'][::-1][0]"
   ]
  },
  {
   "cell_type": "code",
   "execution_count": null,
   "metadata": {
    "collapsed": true
   },
   "outputs": [],
   "source": [
    "d = np.zeros((5,2))"
   ]
  },
  {
   "cell_type": "code",
   "execution_count": null,
   "metadata": {
    "collapsed": true
   },
   "outputs": [],
   "source": []
  },
  {
   "cell_type": "code",
   "execution_count": null,
   "metadata": {
    "collapsed": true
   },
   "outputs": [],
   "source": []
  },
  {
   "cell_type": "code",
   "execution_count": null,
   "metadata": {
    "collapsed": true
   },
   "outputs": [],
   "source": [
    "def f(G):\n",
    "    return gwloss(constC,hC1,hC2,G)\n",
    "def df(G):\n",
    "    return gwggrad(constC,hC1,hC2,G)"
   ]
  },
  {
   "cell_type": "code",
   "execution_count": null,
   "metadata": {
    "collapsed": false
   },
   "outputs": [],
   "source": []
  },
  {
   "cell_type": "code",
   "execution_count": null,
   "metadata": {
    "collapsed": true
   },
   "outputs": [],
   "source": [
    "T=np.outer(p,q)"
   ]
  },
  {
   "cell_type": "code",
   "execution_count": null,
   "metadata": {
    "collapsed": true
   },
   "outputs": [],
   "source": [
    "Mi = M + reg * df(G) #Gradient(xt)\n",
    "# set M positive\n",
    "Mi += Mi.min()\n",
    "\n",
    "# solve linear program\n",
    "Gc = emd(p, q, Mi) #st"
   ]
  },
  {
   "cell_type": "code",
   "execution_count": null,
   "metadata": {
    "collapsed": false
   },
   "outputs": [],
   "source": [
    "constCprime,hC1,hC2=init_matrix(C1,C2,G+alpha*deltaG,p,q)"
   ]
  },
  {
   "cell_type": "code",
   "execution_count": null,
   "metadata": {
    "collapsed": true
   },
   "outputs": [],
   "source": []
  },
  {
   "cell_type": "code",
   "execution_count": null,
   "metadata": {
    "collapsed": true
   },
   "outputs": [],
   "source": []
  },
  {
   "cell_type": "code",
   "execution_count": null,
   "metadata": {
    "collapsed": true
   },
   "outputs": [],
   "source": []
  },
  {
   "cell_type": "code",
   "execution_count": null,
   "metadata": {
    "collapsed": true
   },
   "outputs": [],
   "source": []
  },
  {
   "cell_type": "code",
   "execution_count": null,
   "metadata": {
    "collapsed": false
   },
   "outputs": [],
   "source": [
    "sim1=[]\n",
    "sim2=[]\n",
    "no_amijo_time=[]\n",
    "amijo_time=[]\n",
    "N=500\n",
    "for i in range(N):\n",
    "    n1=np.random.randint(0,X.shape[0])\n",
    "    n2=np.random.randint(0,X.shape[0])\n",
    "    st=time.time()\n",
    "    sim1.append(Graph_FGW_SVC_Classifier(C=1,gamma=2,alpha=1e-3,method='shortest_path',features_metric='hamming_dist',\n",
    "                                         amijo=False).compute_similarity(X[n1],X[n2]))\n",
    "    ed=time.time()\n",
    "    no_amijo_time.append(ed-st)\n",
    "    #clf.set_params(amijo=True)\n",
    "    st=time.time()\n",
    "    sim2.append(Graph_FGW_SVC_Classifier(C=1,gamma=2,alpha=1e-3,method='shortest_path',features_metric='hamming_dist',\n",
    "                                         amijo=True).compute_similarity(X[n1],X[n2]))\n",
    "    ed=time.time()\n",
    "    amijo_time.append(ed-st)"
   ]
  },
  {
   "cell_type": "code",
   "execution_count": null,
   "metadata": {
    "collapsed": false
   },
   "outputs": [],
   "source": [
    "plt.figure(figsize=(15,5))\n",
    "plt.plot(sim1)\n",
    "plt.plot(sim2)\n",
    "plt.legend(['no_amijo','amijo'])\n",
    "plt.show()"
   ]
  },
  {
   "cell_type": "code",
   "execution_count": null,
   "metadata": {
    "collapsed": false
   },
   "outputs": [],
   "source": [
    "np.max(np.abs(np.array(sim2)-np.array(sim1)))"
   ]
  },
  {
   "cell_type": "code",
   "execution_count": null,
   "metadata": {
    "collapsed": false
   },
   "outputs": [],
   "source": [
    "np.all(np.array(sim1)>0)"
   ]
  },
  {
   "cell_type": "code",
   "execution_count": null,
   "metadata": {
    "collapsed": false
   },
   "outputs": [],
   "source": [
    "np.array(sim1)[np.array(sim1)<0]"
   ]
  },
  {
   "cell_type": "code",
   "execution_count": null,
   "metadata": {
    "collapsed": false
   },
   "outputs": [],
   "source": [
    "fgw=Graph_FGW_SVC_Classifier(C=1,gamma=2,alpha=1e-3,method='shortest_path',features_metric='hamming_dist',amijo=False)\n",
    "fgw.compute_similarity(X_train[124],X_train[124])"
   ]
  },
  {
   "cell_type": "code",
   "execution_count": null,
   "metadata": {
    "collapsed": false
   },
   "outputs": [],
   "source": [
    "X_train[124].nodes()"
   ]
  },
  {
   "cell_type": "code",
   "execution_count": null,
   "metadata": {
    "collapsed": true
   },
   "outputs": [],
   "source": [
    "graph_svc=Graph_FGW_SVC_Classifier(C=1,gamma=2,alpha=1e-3,method='shortest_path',features_metric='hamming_dist',wl=2)"
   ]
  },
  {
   "cell_type": "code",
   "execution_count": null,
   "metadata": {
    "collapsed": true
   },
   "outputs": [],
   "source": [
    "graph_svc.compute_all_distance(X_train,X_train)"
   ]
  },
  {
   "cell_type": "code",
   "execution_count": null,
   "metadata": {
    "collapsed": false
   },
   "outputs": [],
   "source": [
    "graph_svc.D[graph_svc.D<0]"
   ]
  },
  {
   "cell_type": "code",
   "execution_count": null,
   "metadata": {
    "collapsed": true
   },
   "outputs": [],
   "source": []
  }
 ],
 "metadata": {
  "kernelspec": {
   "display_name": "Python [default]",
   "language": "python",
   "name": "python3"
  },
  "language_info": {
   "codemirror_mode": {
    "name": "ipython",
    "version": 3
   },
   "file_extension": ".py",
   "mimetype": "text/x-python",
   "name": "python",
   "nbconvert_exporter": "python",
   "pygments_lexer": "ipython3",
   "version": "3.5.2"
  }
 },
 "nbformat": 4,
 "nbformat_minor": 1
}
