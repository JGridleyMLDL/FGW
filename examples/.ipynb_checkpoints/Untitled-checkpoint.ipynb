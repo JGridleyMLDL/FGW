{
 "cells": [
  {
   "cell_type": "code",
   "execution_count": 30,
   "metadata": {
    "collapsed": true
   },
   "outputs": [],
   "source": [
    "import numpy as np\n",
    "import os,sys\n",
    "sys.path.append(os.path.realpath('../lib'))"
   ]
  },
  {
   "cell_type": "code",
   "execution_count": 31,
   "metadata": {
    "collapsed": true
   },
   "outputs": [],
   "source": [
    "from utils import dist\n",
    "xalea = np.random.randn(10, 2)\n",
    "C1 = dist(xalea, xalea)\n",
    "C2=C1\n",
    "p=np.ones(C1.shape[0])/C1.shape[0]\n",
    "q=p"
   ]
  },
  {
   "cell_type": "code",
   "execution_count": 43,
   "metadata": {
    "collapsed": false
   },
   "outputs": [],
   "source": [
    "from ot.gromov import init_matrix,tensor_product\n",
    "from FGW import init_matrix,tensor_product"
   ]
  },
  {
   "cell_type": "code",
   "execution_count": 44,
   "metadata": {
    "collapsed": true
   },
   "outputs": [],
   "source": [
    "Gc=np.eye(C1.shape[0])/C1.shape[0]"
   ]
  },
  {
   "cell_type": "code",
   "execution_count": 45,
   "metadata": {
    "collapsed": false
   },
   "outputs": [
    {
     "data": {
      "text/plain": [
       "array([ True,  True,  True,  True,  True,  True,  True,  True,  True,\n",
       "        True])"
      ]
     },
     "execution_count": 45,
     "metadata": {},
     "output_type": "execute_result"
    }
   ],
   "source": [
    "np.sum(Gc,axis=1)==p"
   ]
  },
  {
   "cell_type": "code",
   "execution_count": 46,
   "metadata": {
    "collapsed": true
   },
   "outputs": [],
   "source": [
    "tens=tensor_product(constC,hC1,hC2,Gc)"
   ]
  },
  {
   "cell_type": "code",
   "execution_count": 47,
   "metadata": {
    "collapsed": true
   },
   "outputs": [],
   "source": [
    "N=tens.shape[0]"
   ]
  },
  {
   "cell_type": "code",
   "execution_count": 48,
   "metadata": {
    "collapsed": true
   },
   "outputs": [],
   "source": [
    "tens2 = np.zeros((N,N))"
   ]
  },
  {
   "cell_type": "code",
   "execution_count": 49,
   "metadata": {
    "collapsed": true
   },
   "outputs": [],
   "source": [
    "for i in range(N):\n",
    "    for j in range(N):\n",
    "        for k in range(N):\n",
    "            for l in range(N):\n",
    "                A=np.abs(C1[i,k]-C2[j,l])**2\n",
    "                tens2[i,j] += A*Gc[i,j]*Gc[k,l]"
   ]
  },
  {
   "cell_type": "code",
   "execution_count": 50,
   "metadata": {
    "collapsed": false
   },
   "outputs": [
    {
     "data": {
      "text/plain": [
       "array([[0., 0., 0., 0., 0., 0., 0., 0., 0., 0.],\n",
       "       [0., 0., 0., 0., 0., 0., 0., 0., 0., 0.],\n",
       "       [0., 0., 0., 0., 0., 0., 0., 0., 0., 0.],\n",
       "       [0., 0., 0., 0., 0., 0., 0., 0., 0., 0.],\n",
       "       [0., 0., 0., 0., 0., 0., 0., 0., 0., 0.],\n",
       "       [0., 0., 0., 0., 0., 0., 0., 0., 0., 0.],\n",
       "       [0., 0., 0., 0., 0., 0., 0., 0., 0., 0.],\n",
       "       [0., 0., 0., 0., 0., 0., 0., 0., 0., 0.],\n",
       "       [0., 0., 0., 0., 0., 0., 0., 0., 0., 0.],\n",
       "       [0., 0., 0., 0., 0., 0., 0., 0., 0., 0.]])"
      ]
     },
     "execution_count": 50,
     "metadata": {},
     "output_type": "execute_result"
    }
   ],
   "source": [
    "tens2"
   ]
  },
  {
   "cell_type": "code",
   "execution_count": 51,
   "metadata": {
    "collapsed": false
   },
   "outputs": [
    {
     "data": {
      "text/plain": [
       "array([[-8.88178420e-16,  8.84475054e-01,  2.06369378e-01,\n",
       "         6.08225633e-01,  2.16980142e+00,  4.20069502e+00,\n",
       "         1.41952347e+00,  1.11528707e+01,  3.43516439e+00,\n",
       "         1.69864443e+00],\n",
       "       [ 8.84475054e-01,  0.00000000e+00,  9.78485558e-01,\n",
       "         2.51878562e+00,  4.71622423e+00,  1.66780221e+00,\n",
       "         3.01873150e-01,  8.15577698e+00,  1.51530041e+00,\n",
       "         2.09098192e-01],\n",
       "       [ 2.06369378e-01,  9.78485558e-01,  8.88178420e-16,\n",
       "         5.24391445e-01,  1.61936642e+00,  4.64807621e+00,\n",
       "         1.98070974e+00,  1.20245146e+01,  4.24653538e+00,\n",
       "         2.02999997e+00],\n",
       "       [ 6.08225633e-01,  2.51878562e+00,  5.24391445e-01,\n",
       "         0.00000000e+00,  5.17363250e-01,  6.56217891e+00,\n",
       "         3.62027014e+00,  1.29042359e+01,  5.82442855e+00,\n",
       "         3.83981350e+00],\n",
       "       [ 2.16980142e+00,  4.71622423e+00,  1.61936642e+00,\n",
       "         5.17363250e-01,  0.00000000e+00,  9.45451893e+00,\n",
       "         6.51061538e+00,  1.55780640e+01,  8.97624187e+00,\n",
       "         6.53550131e+00],\n",
       "       [ 4.20069502e+00,  1.66780221e+00,  4.64807621e+00,\n",
       "         6.56217891e+00,  9.45451893e+00, -8.88178420e-16,\n",
       "         1.22610781e+00,  2.94556760e+00,  2.52147320e-01,\n",
       "         8.27194492e-01],\n",
       "       [ 1.41952347e+00,  3.01873150e-01,  1.98070974e+00,\n",
       "         3.62027014e+00,  6.51061538e+00,  1.22610781e+00,\n",
       "         0.00000000e+00,  7.15027898e+00,  7.65322040e-01,\n",
       "         1.05957157e-01],\n",
       "       [ 1.11528707e+01,  8.15577698e+00,  1.20245146e+01,\n",
       "         1.29042359e+01,  1.55780640e+01,  2.94556760e+00,\n",
       "         7.15027898e+00,  0.00000000e+00,  3.40110186e+00,\n",
       "         6.49456387e+00],\n",
       "       [ 3.43516439e+00,  1.51530041e+00,  4.24653538e+00,\n",
       "         5.82442855e+00,  8.97624187e+00,  2.52147320e-01,\n",
       "         7.65322040e-01,  3.40110186e+00, -1.77635684e-15,\n",
       "         6.90642443e-01],\n",
       "       [ 1.69864443e+00,  2.09098192e-01,  2.02999997e+00,\n",
       "         3.83981350e+00,  6.53550131e+00,  8.27194492e-01,\n",
       "         1.05957157e-01,  6.49456387e+00,  6.90642443e-01,\n",
       "         0.00000000e+00]])"
      ]
     },
     "execution_count": 51,
     "metadata": {},
     "output_type": "execute_result"
    }
   ],
   "source": [
    "tens"
   ]
  },
  {
   "cell_type": "code",
   "execution_count": null,
   "metadata": {
    "collapsed": true
   },
   "outputs": [],
   "source": []
  }
 ],
 "metadata": {
  "kernelspec": {
   "display_name": "Python [default]",
   "language": "python",
   "name": "python3"
  },
  "language_info": {
   "codemirror_mode": {
    "name": "ipython",
    "version": 3
   },
   "file_extension": ".py",
   "mimetype": "text/x-python",
   "name": "python",
   "nbconvert_exporter": "python",
   "pygments_lexer": "ipython3",
   "version": "3.5.2"
  }
 },
 "nbformat": 4,
 "nbformat_minor": 1
}
