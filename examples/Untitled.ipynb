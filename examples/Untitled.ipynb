{
 "cells": [
  {
   "cell_type": "code",
   "execution_count": 1,
   "metadata": {
    "collapsed": true
   },
   "outputs": [],
   "source": [
    "import numpy as np\n",
    "import ot\n",
    "import os,sys\n",
    "sys.path.append(os.path.realpath('../lib'))"
   ]
  },
  {
   "cell_type": "code",
   "execution_count": 62,
   "metadata": {
    "collapsed": true
   },
   "outputs": [],
   "source": [
    "np.random.seed(8)\n",
    "xalea = np.random.randn(10, 2)\n",
    "C1 = ot.dist(xalea, xalea)\n",
    "C1=\n",
    "C2=C1\n",
    "p=np.ones(C1.shape[0])/C1.shape[0]\n",
    "q=p"
   ]
  },
  {
   "cell_type": "code",
   "execution_count": 63,
   "metadata": {
    "collapsed": false
   },
   "outputs": [],
   "source": [
    "#from ot.gromov import init_matrix,tensor_product\n",
    "from FGW import init_matrix,tensor_product"
   ]
  },
  {
   "cell_type": "code",
   "execution_count": 64,
   "metadata": {
    "collapsed": true
   },
   "outputs": [],
   "source": [
    "Gc=np.eye(C1.shape[0])/C1.shape[0]"
   ]
  },
  {
   "cell_type": "code",
   "execution_count": 65,
   "metadata": {
    "collapsed": true
   },
   "outputs": [],
   "source": [
    "#Gc=p[:,None]*q[None,:]"
   ]
  },
  {
   "cell_type": "code",
   "execution_count": 66,
   "metadata": {
    "collapsed": false
   },
   "outputs": [
    {
     "data": {
      "text/plain": [
       "array([[0.1, 0. , 0. , 0. , 0. , 0. , 0. , 0. , 0. , 0. ],\n",
       "       [0. , 0.1, 0. , 0. , 0. , 0. , 0. , 0. , 0. , 0. ],\n",
       "       [0. , 0. , 0.1, 0. , 0. , 0. , 0. , 0. , 0. , 0. ],\n",
       "       [0. , 0. , 0. , 0.1, 0. , 0. , 0. , 0. , 0. , 0. ],\n",
       "       [0. , 0. , 0. , 0. , 0.1, 0. , 0. , 0. , 0. , 0. ],\n",
       "       [0. , 0. , 0. , 0. , 0. , 0.1, 0. , 0. , 0. , 0. ],\n",
       "       [0. , 0. , 0. , 0. , 0. , 0. , 0.1, 0. , 0. , 0. ],\n",
       "       [0. , 0. , 0. , 0. , 0. , 0. , 0. , 0.1, 0. , 0. ],\n",
       "       [0. , 0. , 0. , 0. , 0. , 0. , 0. , 0. , 0.1, 0. ],\n",
       "       [0. , 0. , 0. , 0. , 0. , 0. , 0. , 0. , 0. , 0.1]])"
      ]
     },
     "execution_count": 66,
     "metadata": {},
     "output_type": "execute_result"
    }
   ],
   "source": [
    "Gc"
   ]
  },
  {
   "cell_type": "code",
   "execution_count": 67,
   "metadata": {
    "collapsed": false
   },
   "outputs": [],
   "source": [
    "#constC,hC1,hC2=init_matrix(C1,C2,np.outer(p,q),p,q)\n",
    "constC,hC1,hC2=init_matrix(C1,C2,p,q)\n",
    "tens=tensor_product(constC,hC1,hC2,Gc)"
   ]
  },
  {
   "cell_type": "code",
   "execution_count": 68,
   "metadata": {
    "collapsed": true
   },
   "outputs": [],
   "source": [
    "N=tens.shape[0]"
   ]
  },
  {
   "cell_type": "code",
   "execution_count": 69,
   "metadata": {
    "collapsed": true
   },
   "outputs": [],
   "source": [
    "tens2 = np.zeros((N,N))"
   ]
  },
  {
   "cell_type": "code",
   "execution_count": 70,
   "metadata": {
    "collapsed": true
   },
   "outputs": [],
   "source": [
    "for i in range(N):\n",
    "    for j in range(N):\n",
    "        for k in range(N):\n",
    "            for l in range(N):\n",
    "                A=(C1[i,k]-C2[j,l])**2\n",
    "                tens2[i,j] += A*(Gc[k,l])"
   ]
  },
  {
   "cell_type": "code",
   "execution_count": 71,
   "metadata": {
    "collapsed": false
   },
   "outputs": [
    {
     "data": {
      "text/plain": [
       "array([[-7.10542736e-15,  1.08025158e+02,  8.62377810e+01,\n",
       "         7.15012770e+01,  3.91613371e+00,  1.67642932e+01,\n",
       "         3.57283359e+01,  2.82473513e+01,  1.57380366e+01,\n",
       "         1.18568655e+01],\n",
       "       [ 1.08025158e+02, -5.68434189e-14,  9.59699702e+01,\n",
       "         1.92628745e+02,  1.16665842e+02,  9.42838579e+01,\n",
       "         2.62890824e+01,  3.88462266e+01,  7.96200976e+01,\n",
       "         6.59022966e+01],\n",
       "       [ 8.62377810e+01,  9.59699702e+01,  0.00000000e+00,\n",
       "         9.59515909e+01,  9.64708469e+01,  3.01338752e+01,\n",
       "         9.27762068e+01,  1.10217821e+02,  1.18681172e+02,\n",
       "         1.09556054e+02],\n",
       "       [ 7.15012770e+01,  1.92628745e+02,  9.59515909e+01,\n",
       "         5.68434189e-14,  4.89331931e+01,  7.33544548e+01,\n",
       "         1.45036994e+02,  1.27287779e+02,  7.39164810e+01,\n",
       "         1.08491735e+02],\n",
       "       [ 3.91613371e+00,  1.16665842e+02,  9.64708469e+01,\n",
       "         4.89331931e+01,  0.00000000e+00,  2.71529455e+01,\n",
       "         4.61861204e+01,  3.30912143e+01,  9.92846599e+00,\n",
       "         1.65158971e+01],\n",
       "       [ 1.67642932e+01,  9.42838579e+01,  3.01338752e+01,\n",
       "         7.33544548e+01,  2.71529455e+01,  0.00000000e+00,\n",
       "         4.46693984e+01,  4.96979897e+01,  4.81072194e+01,\n",
       "         3.72539441e+01],\n",
       "       [ 3.57283359e+01,  2.62890824e+01,  9.27762068e+01,\n",
       "         1.45036994e+02,  4.61861204e+01,  4.46693984e+01,\n",
       "        -2.84217094e-14,  3.33707111e+00,  2.64378294e+01,\n",
       "         1.09369427e+01],\n",
       "       [ 2.82473513e+01,  3.88462266e+01,  1.10217821e+02,\n",
       "         1.27287779e+02,  3.30912143e+01,  4.96979897e+01,\n",
       "         3.33707111e+00,  1.42108547e-14,  1.26745342e+01,\n",
       "         4.45866284e+00],\n",
       "       [ 1.57380366e+01,  7.96200976e+01,  1.18681172e+02,\n",
       "         7.39164810e+01,  9.92846599e+00,  4.81072194e+01,\n",
       "         2.64378294e+01,  1.26745342e+01,  0.00000000e+00,\n",
       "         7.11551248e+00],\n",
       "       [ 1.18568655e+01,  6.59022966e+01,  1.09556054e+02,\n",
       "         1.08491735e+02,  1.65158971e+01,  3.72539441e+01,\n",
       "         1.09369427e+01,  4.45866284e+00,  7.11551248e+00,\n",
       "         0.00000000e+00]])"
      ]
     },
     "execution_count": 71,
     "metadata": {},
     "output_type": "execute_result"
    }
   ],
   "source": [
    "tens"
   ]
  },
  {
   "cell_type": "code",
   "execution_count": 72,
   "metadata": {
    "collapsed": false
   },
   "outputs": [
    {
     "data": {
      "text/plain": [
       "array([[  0.        , 108.02515796,  86.23778104,  71.50127696,\n",
       "          3.91613371,  16.76429323,  35.72833592,  28.24735127,\n",
       "         15.73803659,  11.85686546],\n",
       "       [108.02515796,   0.        ,  95.96997017, 192.62874457,\n",
       "        116.66584208,  94.28385786,  26.28908245,  38.84622659,\n",
       "         79.62009757,  65.90229664],\n",
       "       [ 86.23778104,  95.96997017,   0.        ,  95.95159091,\n",
       "         96.47084693,  30.13387521,  92.77620679, 110.2178206 ,\n",
       "        118.68117234, 109.55605387],\n",
       "       [ 71.50127696, 192.62874457,  95.95159091,   0.        ,\n",
       "         48.9331931 ,  73.35445484, 145.03699372, 127.28777876,\n",
       "         73.91648099, 108.49173543],\n",
       "       [  3.91613371, 116.66584208,  96.47084693,  48.9331931 ,\n",
       "          0.        ,  27.15294554,  46.18612043,  33.09121435,\n",
       "          9.92846599,  16.51589714],\n",
       "       [ 16.76429323,  94.28385786,  30.13387521,  73.35445484,\n",
       "         27.15294554,   0.        ,  44.66939843,  49.69798966,\n",
       "         48.10721937,  37.25394406],\n",
       "       [ 35.72833592,  26.28908245,  92.77620679, 145.03699372,\n",
       "         46.18612043,  44.66939843,   0.        ,   3.33707111,\n",
       "         26.43782944,  10.93694269],\n",
       "       [ 28.24735127,  38.84622659, 110.2178206 , 127.28777876,\n",
       "         33.09121435,  49.69798966,   3.33707111,   0.        ,\n",
       "         12.67453418,   4.45866284],\n",
       "       [ 15.73803659,  79.62009757, 118.68117234,  73.91648099,\n",
       "          9.92846599,  48.10721937,  26.43782944,  12.67453418,\n",
       "          0.        ,   7.11551248],\n",
       "       [ 11.85686546,  65.90229664, 109.55605387, 108.49173543,\n",
       "         16.51589714,  37.25394406,  10.93694269,   4.45866284,\n",
       "          7.11551248,   0.        ]])"
      ]
     },
     "execution_count": 72,
     "metadata": {},
     "output_type": "execute_result"
    }
   ],
   "source": [
    "tens2"
   ]
  },
  {
   "cell_type": "code",
   "execution_count": null,
   "metadata": {
    "collapsed": true
   },
   "outputs": [],
   "source": []
  }
 ],
 "metadata": {
  "kernelspec": {
   "display_name": "Python [default]",
   "language": "python",
   "name": "python3"
  },
  "language_info": {
   "codemirror_mode": {
    "name": "ipython",
    "version": 3
   },
   "file_extension": ".py",
   "mimetype": "text/x-python",
   "name": "python",
   "nbconvert_exporter": "python",
   "pygments_lexer": "ipython3",
   "version": "3.5.2"
  }
 },
 "nbformat": 4,
 "nbformat_minor": 1
}
